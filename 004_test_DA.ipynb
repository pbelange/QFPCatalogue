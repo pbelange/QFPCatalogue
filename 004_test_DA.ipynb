{
 "cells": [
  {
   "cell_type": "code",
   "execution_count": 1,
   "metadata": {},
   "outputs": [],
   "source": [
    "import json\n",
    "import numpy as np\n",
    "import matplotlib.pyplot as plt\n",
    "import pandas as pd\n",
    "from IPython.display import clear_output\n",
    "import sys\n",
    "import rich\n",
    "import pickle\n",
    "import os\n",
    "from pathlib import Path\n",
    "\n",
    "# source /home/phbelang/abp/BBStudies/Executables/py_BB/bin/activate\n",
    "if 'BBStudies/Executables/py_BB/bin' not in os.environ.get('PATH').split(':')[0]:\n",
    "    raise Exception('Wrong Python Distribution, use BBStudies/Executables/py_BB')\n",
    "\n",
    "\n",
    "import xobjects as xo\n",
    "import xtrack as xt\n",
    "import xpart as xp\n",
    "import xfields as xf\n",
    "\n",
    "sys.path.append('/home/phbelang/abp/BBStudies/')\n",
    "# Linux local\n",
    "sys.path.append('/home/pbelanger/ABPlocal/BBStudies')\n",
    "# Mac local\n",
    "sys.path.append('/Users/pbelanger/ABPLocal/BBStudies/')\n",
    "import BBStudies.Tracking.XsuitePlus as xPlus\n",
    "import BBStudies.Tracking.InteractionPoint as inp\n",
    "import BBStudies.Physics.Detuning as dtune\n",
    "import BBStudies.Physics.Base as phys\n",
    "import BBStudies.Plotting.BBPlots as bbplt\n",
    "import BBStudies.Physics.Constants as cst\n",
    "\n",
    "\n",
    "LINEFOLDER = './Lines/'\n",
    "def import_from_lines(line_ID,to_track):\n",
    "    line   = {}\n",
    "    twiss  = {}\n",
    "    survey = {}\n",
    "\n",
    "    for seq in ['lhcb1','lhcb4']:\n",
    "        _beam = seq[-2:]\n",
    "        # Importing Line\n",
    "        line[_beam] = xPlus.importLine(LINEFOLDER + f'line_{line_ID}_{seq}.json')\n",
    "        \n",
    "        # Importing twiss and tracker\n",
    "        if _beam == 'b1':\n",
    "            tracker_b1    = line[_beam].build_tracker()#xt.Tracker(line=line[_beam])\n",
    "            twiss[_beam]  = tracker_b1.twiss().to_pandas(index=\"name\")\n",
    "            survey[_beam] = tracker_b1.survey().to_pandas(index=\"name\")\n",
    "        elif _beam == 'b4':\n",
    "            tracker_b4    = line[_beam].build_tracker()#xt.Tracker(line=line[_beam])\n",
    "            twiss[_beam]   = tracker_b4.twiss().to_pandas(index=\"name\")\n",
    "            survey[_beam]  = tracker_b4.survey().to_pandas(index=\"name\")\n",
    "\n",
    "            _beam = 'b2'\n",
    "            twiss[_beam]   = tracker_b4.twiss().reverse().to_pandas(index=\"name\")\n",
    "            survey[_beam]  = tracker_b4.survey().reverse().to_pandas(index=\"name\")\n",
    "\n",
    "\n",
    "    if to_track == 'b1':\n",
    "        tracker = tracker_b1\n",
    "        del tracker_b4\n",
    "    else:\n",
    "        tracker = tracker_b4\n",
    "        del tracker_b1\n",
    "    # Clearing xsuite ouput\n",
    "    clear_output(wait=False)\n",
    "\n",
    "\n",
    "\n",
    "    allVars = list(tracker.vars._owner.keys())\n",
    "    allElements = list(tracker.element_refs._owner.keys())\n",
    "\n",
    "\n",
    "    # Deactivating all wires\n",
    "    #===================================================\n",
    "    tracker.vars['enable_qff'] = 0\n",
    "    for IP in ['ip1','ip5']:\n",
    "        tracker.vars[f\"bbcw_rw_{IP}.{_beam}\"] = 1\n",
    "        tracker.vars[f\"bbcw_i_{IP}.{_beam}\"]  = 0\n",
    "    run3_wires = [name for name in allElements if ('bbcw' in name)&('wire' in name)]\n",
    "    for wire in run3_wires:\n",
    "        tracker.line.element_dict[wire].post_subtract_px  = 0\n",
    "        tracker.line.element_dict[wire].post_subtract_py  = 0\n",
    "        \n",
    "    # Creating BB knobs\n",
    "    #===================================================\n",
    "    \n",
    "    for _ip in ['ip1','ip5','ip2','ip8']:\n",
    "        bb_lr = [name for name in allElements if ('bb_lr' in name)&(f'{_ip[-1]}{_beam}' in name)]\n",
    "        bb_ho = [name for name in allElements if ('bb_ho' in name)&(f'{_ip[-1]}{_beam}' in name)]\n",
    "\n",
    "        # New knob:\n",
    "        tracker.vars[f'{_ip}_bblr_ON'] = 1\n",
    "        tracker.vars[f'{_ip}_bbho_ON'] = 1\n",
    "\n",
    "        # Linking to new knob \n",
    "        for _lr in bb_lr:\n",
    "            # Infividual knobs\n",
    "            tracker.vars[f'{_lr}_ON'] = 1\n",
    "            tracker.element_refs[_lr].scale_strength = tracker.vars[f'{_lr}_ON']*tracker.vars[f'{_ip}_bblr_ON']*tracker.element_refs[_lr].scale_strength._value\n",
    "\n",
    "        for _ho in bb_ho:\n",
    "            tracker.element_refs[_ho].scale_strength = tracker.vars[f'{_ip}_bbho_ON']*tracker.element_refs[_ho].scale_strength._value\n",
    "\n",
    "    # Creating sext and oct knobs\n",
    "    #====================================================\n",
    "\n",
    "    # AS DONE IN THE MASK\n",
    "    #---------------------\n",
    "    part = tracker.line.particle_ref\n",
    "    brho = part.p0c[0]/(part.q0*cst.c)\n",
    "    tracker.vars['I_oct'] = 0\n",
    "    for ss in '12 23 34 45 56 67 78 81'.split():\n",
    "        tracker.vars[f'kof.a{ss}{_beam}'] = tracker.vars['kmax_mo']*tracker.vars['I_oct']/tracker.vars['imax_mo']/brho\n",
    "        tracker.vars[f'kod.a{ss}{_beam}'] = tracker.vars['kmax_mo']*tracker.vars['I_oct']/tracker.vars['imax_mo']/brho\n",
    "    #---------------------\n",
    "\n",
    "    \n",
    "    ks = [name for name in allVars if ('ksf' in name)|('ksd' in name)]\n",
    "    ko = [name for name in allVars if ('kof.a' in name)|('kod.a' in name)]\n",
    "\n",
    "    tracker.vars['all_oct_ON']  = 1\n",
    "    tracker.vars['all_sext_ON'] = 1\n",
    "    for _ks in ks:\n",
    "        if tracker.vars[_ks]._expr is None:\n",
    "            tracker.vars[_ks] = tracker.vars['all_sext_ON']*tracker.vars[_ks]._value\n",
    "        else:\n",
    "            tracker.vars[_ks] = tracker.vars['all_sext_ON']*tracker.vars[_ks]._expr \n",
    "    for _ko in ko:\n",
    "        if tracker.vars[_ko]._expr is None:\n",
    "            tracker.vars[_ko] = tracker.vars['all_oct_ON']*tracker.vars[_ko]._value\n",
    "        else:\n",
    "            tracker.vars[_ko] = tracker.vars['all_oct_ON']*tracker.vars[_ko]._expr \n",
    "\n",
    "    return tracker,line,twiss,survey\n",
    "\n",
    "import yaml\n",
    "def import_IP_config(line_ID,twiss,survey):\n",
    "    # Loading config\n",
    "    #============================\n",
    "\n",
    "    with open(LINEFOLDER+f'../Configs/config_{line_ID}.yaml','r') as fid:\n",
    "        configuration = yaml.safe_load(fid)\n",
    "\n",
    "\n",
    "\n",
    "\n",
    "    B1 = inp.Beam('b1',twiss['b1'],survey['b1'],\n",
    "                Nb       = float(configuration['beam_npart']),\n",
    "                E        = float(configuration['beam_energy_tot'])*1e9,\n",
    "                emittx_n = configuration['beam_norm_emit_x']*1e-6,\n",
    "                emitty_n = configuration['beam_norm_emit_y']*1e-6,\n",
    "                dp_p0    = 0)\n",
    "        \n",
    "    B2 = inp.Beam('b2',twiss['b2'],survey['b2'],\n",
    "                Nb       = float(configuration['beam_npart']),\n",
    "                E        = float(configuration['beam_energy_tot'])*1e9,\n",
    "                emittx_n = configuration['beam_norm_emit_x']*1e-6,\n",
    "                emitty_n = configuration['beam_norm_emit_y']*1e-6,\n",
    "                dp_p0    = 0)\n",
    "\n",
    "    IP1 = inp.InteractionPoint('ip1',B1,B2)\n",
    "    IP5 = inp.InteractionPoint('ip5',B1,B2)\n",
    "\n",
    "    return IP1,IP5\n",
    "\n",
    "def generate_particles(tracker,B1,B2,to_track,method='6d',contour = False):\n",
    "    \n",
    "    BEAM = {'b1':B1,'b4':B2}[to_track]\n",
    "    # Generating Coord grid\n",
    "    #=========================================================\n",
    "    coordinates = phys.polar_grid(  r_sig     = np.array([1e-6] + list(np.linspace(1,6.5,3))),\n",
    "                                    theta_sig = np.linspace(0.02*np.pi/2,0.98*np.pi/2,3),\n",
    "                                    emitt     = [BEAM.emittx,BEAM.emitty])\n",
    "    coordinates.insert(0,'delta',0)\n",
    "\n",
    "    if contour:\n",
    "        ctour_idx  = list(coordinates[coordinates['theta_sig'] == np.min(coordinates['theta_sig'])].index)\n",
    "        ctour_idx += list(coordinates[coordinates['r_sig'] == np.max(coordinates['r_sig'])].index)[1:-1]\n",
    "        ctour_idx += list(coordinates[coordinates['theta_sig'] == np.max(coordinates['theta_sig'])].index)[::-1]\n",
    "        ctour_idx += list(coordinates[coordinates['r_sig'] == np.min(coordinates['r_sig'])].index)[1:-1][::-1]\n",
    "\n",
    "        coordinates = coordinates.loc[ctour_idx]\n",
    "\n",
    "    group_length = len(coordinates)\n",
    "\n",
    "    # Generation\n",
    "    p0        = xp.Particles(mass0=tracker.line.particle_ref.mass0, q0 = tracker.line.particle_ref.q0 , p0c=tracker.line.particle_ref.p0c)\n",
    "    particles = xp.build_particles( method       = method,\n",
    "                                    particle_ref = p0,\n",
    "                                    tracker      = tracker,\n",
    "                                    x_norm       = coordinates['x_sig'].values, \n",
    "                                    px_norm      = None, \n",
    "                                    y_norm       = coordinates['y_sig'].values, \n",
    "                                    py_norm      = None,\n",
    "                                    zeta         = None,\n",
    "                                    delta        = coordinates['delta'].values,\n",
    "                scale_with_transverse_norm_emitt = [BEAM.emittx_n,BEAM.emitty_n])\n",
    "    \n",
    "    return particles,coordinates\n",
    "\n",
    "\n",
    "def match_tracker(tracker,to_track):\n",
    "    if to_track == 'b4':\n",
    "        to_track = 'b2'\n",
    "    # Matching\n",
    "    #===================================\n",
    "    for _ip in ['ip1','ip5','ip2','ip8']:\n",
    "        tracker.vars[f'{_ip}_bblr_ON'] = 0\n",
    "        tracker.vars[f'{_ip}_bbho_ON'] = 0\n",
    "\n",
    "    tracker.vars['all_oct_ON']   = 1\n",
    "    tracker.vars['all_sext_ON']  = 1\n",
    "\n",
    "    tw_final = tracker.twiss()\n",
    "    Qx_0,Qy_0 = np.round(np.mod(tw_final['qx'],1),4),np.round(np.mod(tw_final['qy'],1),4)\n",
    "    print('\\nInitial twiss parameters')\n",
    "    print(f\"Qx = {tw_final['qx']:.5f} Qy = {tw_final['qy']:.5f} \"\n",
    "        f\"Q'x = {tw_final['dqx']:.5f} Q'y = {tw_final['dqy']:.5f}\")\n",
    "    print(40*'-')\n",
    "\n",
    "    try:\n",
    "        tracker.match(vary=[f'dqx.{to_track}',f'dqy.{to_track}'],\n",
    "            targets = [\n",
    "                ('qx', 62.31),\n",
    "                ('qy', 60.32)])\n",
    "                \n",
    "        tracker.match(vary=[f'dqpx.{to_track}_sq',f'dqpy.{to_track}_sq'],\n",
    "            targets = [\n",
    "                ('dqx', 15.0),\n",
    "                ('dqy', 15.0)])\n",
    "    except RuntimeError:\n",
    "        print('Matching didnt find an improvement')\n",
    "\n",
    "\n",
    "\n",
    "\n",
    "\n",
    "    tw_final = tracker.twiss()\n",
    "    Qx_0,Qy_0 = np.round(np.mod(tw_final['qx'],1),4),np.round(np.mod(tw_final['qy'],1),4)\n",
    "    print('\\nFinal twiss parameters')\n",
    "    print(f\"Qx = {tw_final['qx']:.5f} Qy = {tw_final['qy']:.5f} \"\n",
    "        f\"Q'x = {tw_final['dqx']:.5f} Q'y = {tw_final['dqy']:.5f}\")\n",
    "    #===================================\n",
    "\n",
    "\n",
    "\n",
    "# line_ID    = 'ID05_t0'\n",
    "# to_track   = 'b4'\n",
    "\n",
    "\n",
    "# # Importing and Filtering twiss\n",
    "# #====================================\n",
    "# tracker,line,twiss,survey = import_from_lines(line_ID,to_track)\n",
    "# twiss['b1'] = xPlus.filter_twiss(twiss['b1'],entries=['drift','..'])\n",
    "# twiss['b2'] = xPlus.filter_twiss(twiss['b2'],entries=['drift','..','bbcw'])\n",
    "# #====================================\n",
    "\n",
    "# # Importing IP Objects\n",
    "# #====================================\n",
    "# IP1,IP5 = import_IP_config(line_ID,twiss,survey)\n",
    "# #====================================\n",
    "\n"
   ]
  },
  {
   "cell_type": "markdown",
   "metadata": {},
   "source": [
    "---\n",
    "# Coordinates\n",
    "---"
   ]
  },
  {
   "cell_type": "code",
   "execution_count": 6,
   "metadata": {},
   "outputs": [
    {
     "data": {
      "text/plain": [
       "(-0.3248395991375657, 6.82163227292558, -0.3248395991375657, 6.82163227292558)"
      ]
     },
     "execution_count": 6,
     "metadata": {},
     "output_type": "execute_result"
    },
    {
     "data": {
      "image/png": "[encoded data removed]",
      "text/plain": [
       "<Figure size 640x480 with 1 Axes>"
      ]
     },
     "metadata": {},
     "output_type": "display_data"
    }
   ],
   "source": [
    "particles,coordinates = generate_particles(tracker,IP1.b1,IP1.b2,to_track,method='4d',contour=False)\n",
    "\n",
    "\n",
    "plt.figure()\n",
    "particles,coordinates = generate_particles(tracker,IP1.b1,IP1.b2,to_track,method='4d',contour=False)\n",
    "plt.plot(coordinates['x_sig'],coordinates['y_sig'],'o')\n",
    "particles,coordinates = generate_particles(tracker,IP1.b1,IP1.b2,to_track,method='4d',contour=True)\n",
    "plt.plot(coordinates['x_sig'],coordinates['y_sig'],'-o')\n",
    "plt.plot(coordinates['x_sig'],coordinates['y_sig'],'.')\n",
    "\n",
    "\n",
    "plt.axis('square')\n",
    "# plt.xlim([0,1.5])\n",
    "# plt.ylim([0,1.5])"
   ]
  },
  {
   "cell_type": "markdown",
   "metadata": {},
   "source": [
    "---\n",
    "# TRACKING\n",
    "---"
   ]
  },
  {
   "cell_type": "code",
   "execution_count": 2,
   "metadata": {},
   "outputs": [
    {
     "name": "stdout",
     "output_type": "stream",
     "text": [
      "\n",
      "Initial twiss parameters\n",
      "Qx = 62.31001 Qy = 60.32001 Q'x = 14.98487 Q'y = 15.00365\n",
      "----------------------------------------\n",
      "\n",
      "Final twiss parameters\n",
      "Qx = 62.31000 Qy = 60.32000 Q'x = 15.00000 Q'y = 15.00000\n"
     ]
    },
    {
     "data": {
      "application/vnd.jupyter.widget-view+json": {
       "model_id": "8fdfa18620d749a8abf5707938c634c8",
       "version_major": 2,
       "version_minor": 0
      },
      "text/plain": [
       "Output()"
      ]
     },
     "metadata": {},
     "output_type": "display_data"
    },
    {
     "name": "stdout",
     "output_type": "stream",
     "text": [
      "generating ./69491f4bae904fdd932c64fc6528bbc6.c\n",
      "the current directory is '/Users/pbelanger/cernbox/Programming/QFPCatalogue'\n",
      "running build_ext\n",
      "building '69491f4bae904fdd932c64fc6528bbc6' extension\n",
      "clang -Wno-unused-result -Wsign-compare -Wunreachable-code -DNDEBUG -fwrapv -O2 -Wall -fPIC -O2 -isystem /Users/pbelanger/ABPLocal/BBStudies/Executables/miniconda/include -arch arm64 -I/Users/pbelanger/ABPLocal/BBStudies/Executables/miniconda/include -fPIC -O2 -isystem /Users/pbelanger/ABPLocal/BBStudies/Executables/miniconda/include -arch arm64 -I/Users/pbelanger/ABPLocal/BBStudies/Executables/py_BB/include -I/Users/pbelanger/ABPLocal/BBStudies/Executables/miniconda/include/python3.9 -c 69491f4bae904fdd932c64fc6528bbc6.c -o ./69491f4bae904fdd932c64fc6528bbc6.o -std=c99 -O3 -Wno-unused-function\n"
     ]
    },
    {
     "name": "stdout",
     "output_type": "stream",
     "text": [
      "clang -bundle -undefined dynamic_lookup -Wl,-rpath,/Users/pbelanger/ABPLocal/BBStudies/Executables/miniconda/lib -L/Users/pbelanger/ABPLocal/BBStudies/Executables/miniconda/lib -L/Users/pbelanger/ABPLocal/BBStudies/Executables/miniconda/lib -Wl,-rpath,/Users/pbelanger/ABPLocal/BBStudies/Executables/miniconda/lib -L/Users/pbelanger/ABPLocal/BBStudies/Executables/miniconda/lib -arch arm64 ./69491f4bae904fdd932c64fc6528bbc6.o -o ./69491f4bae904fdd932c64fc6528bbc6.cpython-39-darwin.so -std=c99 -O3\n"
     ]
    },
    {
     "name": "stderr",
     "output_type": "stream",
     "text": [
      "458828f468414ac59b931c66caf9ca2b.c:4474:11: warning: '_GNU_SOURCE' macro redefined [-Wmacro-redefined]\n",
      "#  define _GNU_SOURCE // enable GNU libc NAN extension if possible\n",
      "          ^\n",
      "/Users/pbelanger/ABPLocal/BBStudies/Executables/miniconda/include/python3.9/pyconfig.h:1597:9: note: previous definition is here\n",
      "#define _GNU_SOURCE 1\n",
      "        ^\n",
      "458828f468414ac59b931c66caf9ca2b.c:13816:12: warning: variable 'gamma' set but not used [-Wunused-but-set-variable]\n",
      "    double gamma = energy / m0; // [1] \n",
      "           ^\n"
     ]
    },
    {
     "name": "stdout",
     "output_type": "stream",
     "text": [
      "clang -bundle -undefined dynamic_lookup -Wl,-rpath,/Users/pbelanger/ABPLocal/BBStudies/Executables/miniconda/lib -L/Users/pbelanger/ABPLocal/BBStudies/Executables/miniconda/lib -L/Users/pbelanger/ABPLocal/BBStudies/Executables/miniconda/lib -Wl,-rpath,/Users/pbelanger/ABPLocal/BBStudies/Executables/miniconda/lib -L/Users/pbelanger/ABPLocal/BBStudies/Executables/miniconda/lib -arch arm64 ./458828f468414ac59b931c66caf9ca2b.o -o ./458828f468414ac59b931c66caf9ca2b.cpython-39-darwin.so -std=c99 -O3\n"
     ]
    },
    {
     "name": "stderr",
     "output_type": "stream",
     "text": [
      "2 warnings generated.\n"
     ]
    },
    {
     "data": {
      "text/html": [
       "<pre style=\"white-space:pre;overflow-x:auto;line-height:normal;font-family:Menlo,'DejaVu Sans Mono',consolas,'Courier New',monospace\"></pre>\n"
      ],
      "text/plain": []
     },
     "metadata": {},
     "output_type": "display_data"
    },
    {
     "data": {
      "text/html": [
       "<pre style=\"white-space:pre;overflow-x:auto;line-height:normal;font-family:Menlo,'DejaVu Sans Mono',consolas,'Courier New',monospace\">\n",
       "</pre>\n"
      ],
      "text/plain": [
       "\n"
      ]
     },
     "metadata": {},
     "output_type": "display_data"
    },
    {
     "data": {
      "application/vnd.jupyter.widget-view+json": {
       "model_id": "3bf379730559403f80ac028d23d4f429",
       "version_major": 2,
       "version_minor": 0
      },
      "text/plain": [
       "Output()"
      ]
     },
     "metadata": {},
     "output_type": "display_data"
    },
    {
     "data": {
      "text/html": [
       "<pre style=\"white-space:pre;overflow-x:auto;line-height:normal;font-family:Menlo,'DejaVu Sans Mono',consolas,'Courier New',monospace\"></pre>\n"
      ],
      "text/plain": []
     },
     "metadata": {},
     "output_type": "display_data"
    },
    {
     "data": {
      "text/html": [
       "<pre style=\"white-space:pre;overflow-x:auto;line-height:normal;font-family:Menlo,'DejaVu Sans Mono',consolas,'Courier New',monospace\">\n",
       "</pre>\n"
      ],
      "text/plain": [
       "\n"
      ]
     },
     "metadata": {},
     "output_type": "display_data"
    },
    {
     "data": {
      "application/vnd.jupyter.widget-view+json": {
       "model_id": "d8461f783bb64bd5b7953d9dc55a35c0",
       "version_major": 2,
       "version_minor": 0
      },
      "text/plain": [
       "Output()"
      ]
     },
     "metadata": {},
     "output_type": "display_data"
    },
    {
     "data": {
      "text/html": [
       "<pre style=\"white-space:pre;overflow-x:auto;line-height:normal;font-family:Menlo,'DejaVu Sans Mono',consolas,'Courier New',monospace\"></pre>\n"
      ],
      "text/plain": []
     },
     "metadata": {},
     "output_type": "display_data"
    },
    {
     "data": {
      "text/html": [
       "<pre style=\"white-space:pre;overflow-x:auto;line-height:normal;font-family:Menlo,'DejaVu Sans Mono',consolas,'Courier New',monospace\">\n",
       "</pre>\n"
      ],
      "text/plain": [
       "\n"
      ]
     },
     "metadata": {},
     "output_type": "display_data"
    }
   ],
   "source": [
    "\n",
    "to_track = 'b4'\n",
    "CONTOUR  = False\n",
    "OUTFOLDER = './DAtracking'\n",
    "NTURNS = int(1e5)\n",
    "for line_ID in ['base']:\n",
    "\n",
    "# for line_ID in ['base']:\n",
    "    # Importing and Filtering twiss\n",
    "    #====================================\n",
    "    tracker,line,twiss,survey = import_from_lines(line_ID,to_track)\n",
    "    twiss['b1'] = xPlus.filter_twiss(twiss['b1'],entries=['drift','..'])\n",
    "    twiss['b2'] = xPlus.filter_twiss(twiss['b2'],entries=['drift','..'])\n",
    "    #====================================\n",
    "    \n",
    "    # Importing IP Objects\n",
    "    #====================================\n",
    "    IP1,IP5 = import_IP_config(line_ID,twiss,survey)\n",
    "    #====================================\n",
    "    \n",
    " \n",
    "    # Matching\n",
    "    #====================================\n",
    "    match_tracker(tracker,to_track)\n",
    "    #====================================\n",
    "\n",
    "    # REFERENCE\n",
    "    #==========================\n",
    "    tracker.vars[f'ip1_bbho_ON'] = 0\n",
    "    tracker.vars[f'ip5_bbho_ON'] = 0\n",
    "\n",
    "    tracker.vars[f'ip1_bblr_ON'] = 0\n",
    "    tracker.vars[f'ip5_bblr_ON'] = 0\n",
    "\n",
    "    tracker.vars['all_oct_ON']   = 0\n",
    "    tracker.vars['all_sext_ON']  = 1\n",
    "    #==========================\n",
    "\n",
    "    particles,coordinates = generate_particles(tracker,IP1.b1,IP1.b2,to_track,method='4d',contour=CONTOUR)\n",
    "    particles.zeta  *= 0\n",
    "    particles.delta *= 0\n",
    "    tracked_ref = xPlus.Tracking(tracker, particles, n_turns = NTURNS,method='4D',progress=True)\n",
    "    tracked_ref.to_pickle(f'{OUTFOLDER}/tracked_ref_sf1_{line_ID}.pkl')\n",
    "    coordinates[['r_sig','theta_sig','x_sig','y_sig']].to_pickle(f'{OUTFOLDER}/coordinates_{line_ID}.pkl')\n",
    "\n",
    "    # Choosing knobs\n",
    "    #==========================\n",
    "    tracker.vars[f'ip1_bbho_ON'] = 1\n",
    "    tracker.vars[f'ip5_bbho_ON'] = 1\n",
    "\n",
    "    tracker.vars[f'ip1_bblr_ON'] = 0\n",
    "    tracker.vars[f'ip5_bblr_ON'] = 0\n",
    "\n",
    "    tracker.vars['all_oct_ON']   = 0\n",
    "    tracker.vars['all_sext_ON']  = 1\n",
    "    #==========================\n",
    "\n",
    "    particles,coordinates = generate_particles(tracker,IP1.b1,IP1.b2,to_track,method='4d',contour=CONTOUR)\n",
    "    particles.zeta  *= 0\n",
    "    particles.delta *= 0\n",
    "    tracked_HO = xPlus.Tracking(tracker, particles, n_turns = NTURNS,method='4D',progress=True)\n",
    "    tracked_HO.to_pickle(f'{OUTFOLDER}/tracked_HO_sf1_{line_ID}.pkl')\n",
    "\n",
    "\n",
    "    # Choosing knobs\n",
    "    #==========================\n",
    "    tracker.vars[f'ip1_bbho_ON'] = 1\n",
    "    tracker.vars[f'ip5_bbho_ON'] = 1\n",
    "\n",
    "    tracker.vars[f'ip1_bblr_ON'] = 1\n",
    "    tracker.vars[f'ip5_bblr_ON'] = 1\n",
    "\n",
    "    tracker.vars['all_oct_ON']   = 0\n",
    "    tracker.vars['all_sext_ON']  = 1\n",
    "    #==========================\n",
    "\n",
    "    particles,coordinates = generate_particles(tracker,IP1.b1,IP1.b2,to_track,method='4d',contour=CONTOUR)\n",
    "    particles.zeta  *= 0\n",
    "    particles.delta *= 0\n",
    "    tracked_HOLR = xPlus.Tracking(tracker, particles, n_turns = NTURNS,method='4D',progress=True)\n",
    "    tracked_HOLR.to_pickle(f'{OUTFOLDER}/tracked_HOLR_sf1_{line_ID}.pkl')\n",
    "\n",
    "\n"
   ]
  },
  {
   "cell_type": "markdown",
   "metadata": {},
   "source": [
    "---\n",
    "# DEBUG\n",
    "---"
   ]
  },
  {
   "cell_type": "code",
   "execution_count": 10,
   "metadata": {},
   "outputs": [],
   "source": [
    "particles,coordinates = generate_particles(tracker,IP1.b1,IP1.b2,to_track,method='4d',contour=CONTOUR)"
   ]
  },
  {
   "cell_type": "code",
   "execution_count": 3,
   "metadata": {},
   "outputs": [],
   "source": [
    "tracked = {}\n",
    "tracked['ref'] = tracked_ref\n",
    "tracked['HO']  = tracked_HO\n",
    "tracked['sf'] = 10\n",
    "tracked['coord'] = coordinates\n",
    "skipfirst = 15\n",
    "_coord = tracked['coord']\n",
    "ctour_idx  = list(_coord[_coord['theta_sig'] == np.min(_coord['theta_sig'])].index)\n",
    "ctour_idx += list(_coord[_coord['r_sig'] == np.max(_coord['r_sig'])].index)[1:-1]\n",
    "ctour_idx += list(_coord[_coord['theta_sig'] == np.max(_coord['theta_sig'])].index)[::-1]\n",
    "ctour_idx += list(_coord[_coord['r_sig'] == np.min(_coord['r_sig'])].index)[1:-1][::-1]\n",
    "tracked['ctour_idx'] = ctour_idx[:-skipfirst]"
   ]
  },
  {
   "cell_type": "code",
   "execution_count": 4,
   "metadata": {},
   "outputs": [
    {
     "ename": "ValueError",
     "evalue": "not enough values to unpack (expected 2, got 0)",
     "output_type": "error",
     "traceback": [
      "\u001b[0;31m---------------------------------------------------------------------------\u001b[0m",
      "\u001b[0;31mValueError\u001b[0m                                Traceback (most recent call last)",
      "Cell \u001b[0;32mIn[4], line 27\u001b[0m\n\u001b[1;32m     25\u001b[0m plt\u001b[39m.\u001b[39mplot(x,y,\u001b[39m'\u001b[39m\u001b[39m-\u001b[39m\u001b[39m'\u001b[39m,alpha\u001b[39m=\u001b[39m\u001b[39m0.5\u001b[39m,color\u001b[39m=\u001b[39mcolor)\n\u001b[1;32m     26\u001b[0m start,stop \u001b[39m=\u001b[39m (\u001b[39mlen\u001b[39m(x))\u001b[39m/\u001b[39m\u001b[39m/\u001b[39m\u001b[39m4\u001b[39m,(\u001b[39mlen\u001b[39m(y))\u001b[39m/\u001b[39m\u001b[39m/\u001b[39m\u001b[39m4\u001b[39m\u001b[39m+\u001b[39m\u001b[39m3\u001b[39m\n\u001b[0;32m---> 27\u001b[0m bbplt\u001b[39m.\u001b[39;49mdrawArrow(x\u001b[39m.\u001b[39;49mvalues[start:stop],y\u001b[39m.\u001b[39;49mvalues[start:stop],scale\u001b[39m=\u001b[39;49m\u001b[39m2.5\u001b[39;49m,color\u001b[39m=\u001b[39;49mcolor,alpha\u001b[39m=\u001b[39;49m\u001b[39m0.8\u001b[39;49m,label \u001b[39m=\u001b[39;49m \u001b[39mNone\u001b[39;49;00m,zorder\u001b[39m=\u001b[39;49m\u001b[39m100\u001b[39;49m)\n\u001b[1;32m     28\u001b[0m start,stop \u001b[39m=\u001b[39m \u001b[39m3\u001b[39m\u001b[39m*\u001b[39m(\u001b[39mlen\u001b[39m(x))\u001b[39m/\u001b[39m\u001b[39m/\u001b[39m\u001b[39m4\u001b[39m,\u001b[39m3\u001b[39m\u001b[39m*\u001b[39m(\u001b[39mlen\u001b[39m(y))\u001b[39m/\u001b[39m\u001b[39m/\u001b[39m\u001b[39m4\u001b[39m\u001b[39m+\u001b[39m\u001b[39m3\u001b[39m\n\u001b[1;32m     29\u001b[0m bbplt\u001b[39m.\u001b[39mdrawArrow(x\u001b[39m.\u001b[39mvalues[start:stop][::\u001b[39m-\u001b[39m\u001b[39m1\u001b[39m],y\u001b[39m.\u001b[39mvalues[start:stop][::\u001b[39m-\u001b[39m\u001b[39m1\u001b[39m],scale\u001b[39m=\u001b[39m\u001b[39m2.5\u001b[39m,facecolor\u001b[39m=\u001b[39m\u001b[39m'\u001b[39m\u001b[39mwhite\u001b[39m\u001b[39m'\u001b[39m,color\u001b[39m=\u001b[39mcolor,alpha\u001b[39m=\u001b[39m\u001b[39m0.8\u001b[39m,label \u001b[39m=\u001b[39m \u001b[39mNone\u001b[39;00m,zorder\u001b[39m=\u001b[39m\u001b[39m100\u001b[39m)\n",
      "File \u001b[0;32m~/ABPLocal/BBStudies/BBStudies/Plotting/BBPlots.py:310\u001b[0m, in \u001b[0;36mdrawArrow\u001b[0;34m(x, y, scale, rotate, facecolor, color, alpha, label, zorder)\u001b[0m\n\u001b[1;32m    308\u001b[0m ax \u001b[39m=\u001b[39m plt\u001b[39m.\u001b[39mgca()\n\u001b[1;32m    309\u001b[0m ax\u001b[39m.\u001b[39mplot(x[:\u001b[39m-\u001b[39m\u001b[39m2\u001b[39m], y[:\u001b[39m-\u001b[39m\u001b[39m2\u001b[39m], color\u001b[39m=\u001b[39mcolor,alpha\u001b[39m=\u001b[39malpha,label\u001b[39m=\u001b[39mlabel)\n\u001b[0;32m--> 310\u001b[0m posA, posB \u001b[39m=\u001b[39m \u001b[39mzip\u001b[39m(x[\u001b[39m-\u001b[39m\u001b[39m2\u001b[39m:], y[\u001b[39m-\u001b[39m\u001b[39m2\u001b[39m:])\n\u001b[1;32m    311\u001b[0m edge_width \u001b[39m=\u001b[39m \u001b[39m2.\u001b[39m\u001b[39m*\u001b[39mscale\n\u001b[1;32m    312\u001b[0m anglestyle \u001b[39m=\u001b[39m \u001b[39m\"\u001b[39m\u001b[39marc3,rad=\u001b[39m\u001b[39m{}\u001b[39;00m\u001b[39m\"\u001b[39m\u001b[39m.\u001b[39mformat(np\u001b[39m.\u001b[39mradians(rotate))\n",
      "\u001b[0;31mValueError\u001b[0m: not enough values to unpack (expected 2, got 0)"
     ]
    },
    {
     "data": {
      "image/png": "[encoded data removed]",
      "text/plain": [
       "<Figure size 640x480 with 1 Axes>"
      ]
     },
     "metadata": {},
     "output_type": "display_data"
    }
   ],
   "source": [
    "dQx,dQy = np.zeros(len(tracked['coord'])),np.zeros(len(tracked['coord']))\n",
    "for i in ['HO']:\n",
    "    #---------------\n",
    "    _dQx = tracked[i].tunes_n['Qx'] - tracked['ref'].tunes_n['Qx']\n",
    "    _dQy = tracked[i].tunes_n['Qy'] - tracked['ref'].tunes_n['Qy']\n",
    "\n",
    "    # Scale for scale_strength factor\n",
    "    dQx += _dQx*tracked['sf']\n",
    "    dQy += _dQy*tracked['sf']\n",
    "    #---------------\n",
    "\n",
    "\n",
    "\n",
    "plt.figure()\n",
    "color = 'darkblue'\n",
    "#------------\n",
    "x = dQx\n",
    "y = dQy\n",
    "#------------\n",
    "#template_FP_plot(window = 0.02,show_WP=False,show_Res=False)\n",
    "bbplt.polarmesh(x,y,alpha=0.1,r=tracked['coord']['r_sig'],theta=tracked['coord']['theta_sig'],color=color)\n",
    "#plt.scatter(x,y,c=color,s = 30*sciStat.norm.pdf(tracked['coord']['r_sig'])/sciStat.norm.pdf(0))\n",
    "x = x.loc[tracked['ctour_idx']]\n",
    "y = y.loc[tracked['ctour_idx']]\n",
    "plt.plot(x,y,'-',alpha=0.5,color=color)\n",
    "start,stop = (len(x))//4,(len(y))//4+3\n",
    "bbplt.drawArrow(x.values[start:stop],y.values[start:stop],scale=2.5,color=color,alpha=0.8,label = None,zorder=100)\n",
    "start,stop = 3*(len(x))//4,3*(len(y))//4+3\n",
    "bbplt.drawArrow(x.values[start:stop][::-1],y.values[start:stop][::-1],scale=2.5,facecolor='white',color=color,alpha=0.8,label = None,zorder=100)\n",
    "\n",
    "plt.axis('square');\n",
    "plt.locator_params(nbins=6)\n",
    "plt.xlabel(r'$\\Delta Q_x/\\xi$')\n",
    "plt.ylabel(r'$\\Delta Q_y/\\xi$')\n",
    "\n",
    "#==========================="
   ]
  },
  {
   "cell_type": "code",
   "execution_count": 5,
   "metadata": {},
   "outputs": [],
   "source": [
    "import gc"
   ]
  },
  {
   "cell_type": "code",
   "execution_count": 6,
   "metadata": {},
   "outputs": [
    {
     "data": {
      "text/plain": [
       "2505"
      ]
     },
     "execution_count": 6,
     "metadata": {},
     "output_type": "execute_result"
    }
   ],
   "source": [
    "gc.collect()"
   ]
  }
 ],
 "metadata": {
  "kernelspec": {
   "display_name": "py_BB",
   "language": "python",
   "name": "py_bb"
  },
  "language_info": {
   "codemirror_mode": {
    "name": "ipython",
    "version": 3
   },
   "file_extension": ".py",
   "mimetype": "text/x-python",
   "name": "python",
   "nbconvert_exporter": "python",
   "pygments_lexer": "ipython3",
   "version": "3.9.12"
  },
  "orig_nbformat": 4,
  "vscode": {
   "interpreter": {
    "hash": "31f2aee4e71d21fbe5cf8b01ff0e069b9275f58929596ceb00d14d90e3e16cd6"
   }
  }
 },
 "nbformat": 4,
 "nbformat_minor": 2
}
